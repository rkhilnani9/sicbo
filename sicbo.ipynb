{
 "cells": [
  {
   "cell_type": "code",
   "execution_count": 8,
   "id": "2c4d1540",
   "metadata": {},
   "outputs": [],
   "source": [
    "import cv2\n",
    "import subprocess\n",
    "import numpy as np\n",
    "import glob\n",
    "import time\n",
    "import shlex\n",
    "from loguru import logger\n",
    "from dice_combinations import DICE_COMBINATIONS\n",
    "\n",
    "\n",
    "FPS = 30\n",
    "HEIGHT = 540\n",
    "WIDTH = 960\n",
    "RTMP_URL = \"rtmp://vid.heeraexch.com:1935/live/sicbo\"\n",
    "\n",
    "common_image_paths = glob.glob(\n",
    "    \"/Users/rkhilnan/Desktop/awone_docs/sicbo/common_segment/*.jpg\"\n",
    ")\n",
    "common_image_paths = sorted(\n",
    "    common_image_paths, key=lambda x: int(x.split(\"/\")[-1].split(\".\")[0])\n",
    ")\n",
    "# common_images = [cv2.imread(impath) for impath in common_image_paths]\n",
    "\n",
    "combo_paths = {}\n",
    "for combo in DICE_COMBINATIONS:\n",
    "    combo_str = \"\".join([str(digit) for digit in combo])\n",
    "    paths = glob.glob(f\"/Users/rkhilnan/Desktop/awone_docs/sicbo_new/{combo_str}/*.jpg\")\n",
    "    paths = sorted(paths, key=lambda x: int(x.split(\"/\")[-1].split(\".\")[0]))\n",
    "    combo_paths[combo_str] = paths\n",
    "\n",
    "\n",
    "# command and params for ffmpeg\n",
    "command = ['ffmpeg',\n",
    "           '-y',\n",
    "           '-r', str(FPS),\n",
    "           '-f', 'rawvideo',\n",
    "           '-vcodec', 'rawvideo',\n",
    "           '-pix_fmt', 'bgr24',\n",
    "           '-s', \"{}x{}\".format(WIDTH, HEIGHT),\n",
    "           '-i', '-',\n",
    "           '-c:v', 'libx264',\n",
    "           '-pix_fmt', 'yuv420p',\n",
    "           '-preset', 'ultrafast',\n",
    "           '-f', 'flv',\n",
    "           RTMP_URL]"
   ]
  },
  {
   "cell_type": "code",
   "execution_count": 9,
   "id": "1fead796",
   "metadata": {},
   "outputs": [
    {
     "name": "stdout",
     "output_type": "stream",
     "text": [
      "138\n",
      "ts: 1646289308.054325\n"
     ]
    },
    {
     "name": "stderr",
     "output_type": "stream",
     "text": [
      "ffmpeg version 5.0 Copyright (c) 2000-2022 the FFmpeg developers\n",
      "  built with Apple clang version 13.0.0 (clang-1300.0.29.30)\n",
      "  configuration: --prefix=/opt/homebrew/Cellar/ffmpeg/5.0 --enable-shared --enable-pthreads --enable-version3 --cc=clang --host-cflags= --host-ldflags= --enable-ffplay --enable-gnutls --enable-gpl --enable-libaom --enable-libbluray --enable-libdav1d --enable-libmp3lame --enable-libopus --enable-librav1e --enable-librist --enable-librubberband --enable-libsnappy --enable-libsrt --enable-libtesseract --enable-libtheora --enable-libvidstab --enable-libvmaf --enable-libvorbis --enable-libvpx --enable-libwebp --enable-libx264 --enable-libx265 --enable-libxml2 --enable-libxvid --enable-lzma --enable-libfontconfig --enable-libfreetype --enable-frei0r --enable-libass --enable-libopencore-amrnb --enable-libopencore-amrwb --enable-libopenjpeg --enable-libspeex --enable-libsoxr --enable-libzmq --enable-libzimg --disable-libjack --disable-indev=jack --enable-videotoolbox --enable-neon\n",
      "  libavutil      57. 17.100 / 57. 17.100\n",
      "  libavcodec     59. 18.100 / 59. 18.100\n",
      "  libavformat    59. 16.100 / 59. 16.100\n",
      "  libavdevice    59.  4.100 / 59.  4.100\n",
      "  libavfilter     8. 24.100 /  8. 24.100\n",
      "  libswscale      6.  4.100 /  6.  4.100\n",
      "  libswresample   4.  3.100 /  4.  3.100\n",
      "  libpostproc    56.  3.100 / 56.  3.100\n",
      "Input #0, rawvideo, from 'pipe:':\n",
      "  Duration: N/A, start: 0.000000, bitrate: 373248 kb/s\n",
      "  Stream #0:0: Video: rawvideo (BGR[24] / 0x18524742), bgr24, 960x540, 373248 kb/s, 30 tbr, 30 tbn\n",
      "Stream mapping:\n",
      "  Stream #0:0 -> #0:0 (rawvideo (native) -> h264 (libx264))\n",
      "[libx264 @ 0x13de062c0] using cpu capabilities: ARMv8 NEON\n",
      "[libx264 @ 0x13de062c0] profile Constrained Baseline, level 3.1, 4:2:0, 8-bit\n",
      "[libx264 @ 0x13de062c0] 264 - core 163 r3060 5db6aa6 - H.264/MPEG-4 AVC codec - Copyleft 2003-2021 - http://www.videolan.org/x264.html - options: cabac=0 ref=1 deblock=0:0:0 analyse=0:0 me=dia subme=0 psy=1 psy_rd=1.00:0.00 mixed_ref=0 me_range=16 chroma_me=1 trellis=0 8x8dct=0 cqm=0 deadzone=21,11 fast_pskip=1 chroma_qp_offset=0 threads=15 lookahead_threads=2 sliced_threads=0 nr=0 decimate=1 interlaced=0 bluray_compat=0 constrained_intra=0 bframes=0 weightp=0 keyint=250 keyint_min=25 scenecut=0 intra_refresh=0 rc=crf mbtree=0 crf=23.0 qcomp=0.60 qpmin=0 qpmax=69 qpstep=4 ip_ratio=1.40 aq=0\n",
      "Output #0, flv, to 'rtmp://vid.heeraexch.com:1935/live/sicbo':\n",
      "  Metadata:\n",
      "    encoder         : Lavf59.16.100\n",
      "  Stream #0:0: Video: h264 ([7][0][0][0] / 0x0007), yuv420p(tv, progressive), 960x540, q=2-31, 30 fps, 1k tbn\n",
      "    Metadata:\n",
      "      encoder         : Lavc59.18.100 libx264\n",
      "    Side data:\n",
      "      cpb: bitrate max/min/avg: 0/0/0 buffer size: 0 vbv_delay: N/A\n",
      "2022-03-03 12:05:13.040 | INFO     | __main__:<module>:22 - File opened!.2kbits/s speed=0.64x     \n",
      "frame=  128 fps= 25 q=19.0 size=     635kB time=00:00:03.70 bitrate=1406.4kbits/s speed=0.711x    \r"
     ]
    },
    {
     "name": "stdout",
     "output_type": "stream",
     "text": [
      "ts: 1646289316.085748\n"
     ]
    },
    {
     "name": "stderr",
     "output_type": "stream",
     "text": [
      "2022-03-03 12:05:18.643 | INFO     | __main__:<module>:22 - File opened!.0kbits/s speed=0.745x    \n",
      "Traceback (most recent call last):  6802kB time=00:00:36.86 bitrate=1511.5kbits/s speed=0.79x     \n",
      "  File \"/Users/rkhilnan/Desktop/projects/sicbo/roundend.py\", line 13, in <module>\n",
      "    dice_numbers = open(\"sicbo_numbers.txt\", \"r\").read()\n",
      "FileNotFoundError: [Errno 2] No such file or directory: 'sicbo_numbers.txt'\n",
      "frame= 1198 fps= 24 q=16.0 size=    7409kB time=00:00:39.36 bitrate=1541.7kbits/s speed=0.79x     \r"
     ]
    },
    {
     "name": "stdout",
     "output_type": "stream",
     "text": [
      "ts: 1646289360.551382\n"
     ]
    },
    {
     "name": "stderr",
     "output_type": "stream",
     "text": [
      "2022-03-03 12:06:03.072 | INFO     | __main__:<module>:22 - File opened!.8kbits/s speed=0.793x    \n",
      "Traceback (most recent call last): 13930kB time=00:01:13.20 bitrate=1558.9kbits/s speed=0.771x    \n",
      "  File \"/Users/rkhilnan/Desktop/projects/sicbo/roundend.py\", line 13, in <module>\n",
      "    dice_numbers = open(\"sicbo_numbers.txt\", \"r\").read()\n",
      "FileNotFoundError: [Errno 2] No such file or directory: 'sicbo_numbers.txt'\n",
      "frame= 2286 fps= 23 q=16.0 size=   14488kB time=00:01:15.63 bitrate=1569.2kbits/s speed=0.772x    \r"
     ]
    },
    {
     "name": "stdout",
     "output_type": "stream",
     "text": [
      "ts: 1646289408.895894\n"
     ]
    },
    {
     "name": "stderr",
     "output_type": "stream",
     "text": [
      "2022-03-03 12:06:51.482 | INFO     | __main__:<module>:22 - File opened!.2kbits/s speed=0.773x    \n",
      "frame= 2426 fps= 23 q=19.0 size=   15292kB time=00:01:20.30 bitrate=1560.0kbits/s speed=0.774x    \r"
     ]
    },
    {
     "name": "stdout",
     "output_type": "stream",
     "text": [
      "ts: 1646289414.557665\n"
     ]
    },
    {
     "name": "stderr",
     "output_type": "stream",
     "text": [
      "2022-03-03 12:06:57.156 | INFO     | __main__:<module>:22 - File opened!.8kbits/s speed=0.775x    \n",
      "Traceback (most recent call last): 21139kB time=00:01:52.40 bitrate=1540.7kbits/s speed=0.767x    \n",
      "  File \"/Users/rkhilnan/Desktop/projects/sicbo/roundend.py\", line 13, in <module>\n",
      "    dice_numbers = open(\"sicbo_numbers.txt\", \"r\").read()\n",
      "FileNotFoundError: [Errno 2] No such file or directory: 'sicbo_numbers.txt'\n",
      "frame= 3464 fps= 23 q=17.0 size=   21873kB time=00:01:54.90 bitrate=1559.5kbits/s speed=0.768x    \r"
     ]
    },
    {
     "name": "stdout",
     "output_type": "stream",
     "text": [
      "ts: 1646289460.350498\n"
     ]
    },
    {
     "name": "stderr",
     "output_type": "stream",
     "text": [
      "2022-03-03 12:07:42.865 | INFO     | __main__:<module>:22 - File opened!.8kbits/s speed=0.769x    \n",
      "Traceback (most recent call last): 28358kB time=00:02:28.83 bitrate=1560.9kbits/s speed=0.786x    \n",
      "  File \"/Users/rkhilnan/Desktop/projects/sicbo/roundend.py\", line 13, in <module>\n",
      "    dice_numbers = open(\"sicbo_numbers.txt\", \"r\").read()\n",
      "FileNotFoundError: [Errno 2] No such file or directory: 'sicbo_numbers.txt'\n",
      "frame= 4568 fps= 24 q=16.0 size=   28966kB time=00:02:31.70 bitrate=1564.2kbits/s speed=0.786x    \r"
     ]
    },
    {
     "name": "stdout",
     "output_type": "stream",
     "text": [
      "ts: 1646289503.568403\n"
     ]
    },
    {
     "name": "stderr",
     "output_type": "stream",
     "text": [
      "2022-03-03 12:08:26.227 | INFO     | __main__:<module>:22 - File opened!.3kbits/s speed=0.787x    \n",
      "Traceback (most recent call last): 35417kB time=00:03:05.66 bitrate=1562.6kbits/s speed= 0.8x     \n",
      "  File \"/Users/rkhilnan/Desktop/projects/sicbo/roundend.py\", line 13, in <module>\n",
      "    dice_numbers = open(\"sicbo_numbers.txt\", \"r\").read()\n",
      "FileNotFoundError: [Errno 2] No such file or directory: 'sicbo_numbers.txt'\n",
      "frame= 5659 fps= 24 q=17.0 size=   35842kB time=00:03:08.06 bitrate=1561.2kbits/s speed=0.802x    \r"
     ]
    },
    {
     "name": "stdout",
     "output_type": "stream",
     "text": [
      "ts: 1646289545.3305862\n"
     ]
    },
    {
     "name": "stderr",
     "output_type": "stream",
     "text": [
      "2022-03-03 12:09:07.644 | INFO     | __main__:<module>:22 - File opened!.9kbits/s speed=0.803x    \n",
      "Traceback (most recent call last): 41686kB time=00:03:36.90 bitrate=1574.4kbits/s speed=0.806x    \n",
      "  File \"/Users/rkhilnan/Desktop/projects/sicbo/roundend.py\", line 13, in <module>\n",
      "    dice_numbers = open(\"sicbo_numbers.txt\", \"r\").read()\n",
      "FileNotFoundError: [Errno 2] No such file or directory: 'sicbo_numbers.txt'\n",
      "frame= 6593 fps= 24 q=21.0 size=   42047kB time=00:03:39.20 bitrate=1571.4kbits/s speed=0.807x    \r"
     ]
    },
    {
     "name": "stdout",
     "output_type": "stream",
     "text": [
      "ts: 1646289582.401572\n"
     ]
    },
    {
     "name": "stderr",
     "output_type": "stream",
     "text": [
      "2022-03-03 12:09:44.779 | INFO     | __main__:<module>:22 - File opened!.5kbits/s speed=0.808x    \n",
      "frame= 6861 fps= 24 q=20.0 size=   43598kB time=00:03:48.13 bitrate=1565.6kbits/s speed=0.81x     \r"
     ]
    },
    {
     "name": "stdout",
     "output_type": "stream",
     "text": [
      "ts: 1646289592.124924\n"
     ]
    },
    {
     "name": "stderr",
     "output_type": "stream",
     "text": [
      "[flv @ 0x13de05560] Failed to update header with correct duration.\n",
      "[flv @ 0x13de05560] Failed to update header with correct filesize.\n",
      "frame= 6865 fps= 24 q=-1.0 Lsize=   43698kB time=00:03:48.80 bitrate=1564.6kbits/s speed=0.812x    \n",
      "video:43563kB audio:0kB subtitle:0kB other streams:0kB global headers:0kB muxing overhead: 0.308440%\n",
      "[libx264 @ 0x13de062c0] frame I:28    Avg QP:15.61  size: 96248\n",
      "[libx264 @ 0x13de062c0] frame P:6837  Avg QP:18.37  size:  6130\n",
      "[libx264 @ 0x13de062c0] mb I  I16..4: 100.0%  0.0%  0.0%\n",
      "[libx264 @ 0x13de062c0] mb P  I16..4:  2.5%  0.0%  0.0%  P16..4: 31.0%  0.0%  0.0%  0.0%  0.0%    skip:66.5%\n",
      "[libx264 @ 0x13de062c0] coded y,uvDC,uvAC intra: 35.7% 66.5% 29.8% inter: 9.9% 20.9% 3.1%\n",
      "[libx264 @ 0x13de062c0] i16 v,h,dc,p: 40% 23% 23% 14%\n",
      "[libx264 @ 0x13de062c0] i8c dc,h,v,p: 37% 25% 29%  9%\n",
      "[libx264 @ 0x13de062c0] kb/s:1559.51\n",
      "Exiting normally, received signal 2.\n"
     ]
    },
    {
     "ename": "ValueError",
     "evalue": "write to closed file",
     "output_type": "error",
     "traceback": [
      "\u001b[0;31m---------------------------------------------------------------------------\u001b[0m",
      "\u001b[0;31mValueError\u001b[0m                                Traceback (most recent call last)",
      "\u001b[0;32m/var/folders/lj/mxl49npx0nb12_m94w_2xrjh0000gn/T/ipykernel_54221/15419208.py\u001b[0m in \u001b[0;36m<module>\u001b[0;34m\u001b[0m\n\u001b[1;32m     24\u001b[0m             \u001b[0;32mtry\u001b[0m\u001b[0;34m:\u001b[0m\u001b[0;34m\u001b[0m\u001b[0;34m\u001b[0m\u001b[0m\n\u001b[0;32m---> 25\u001b[0;31m                 \u001b[0mp\u001b[0m\u001b[0;34m.\u001b[0m\u001b[0mstdin\u001b[0m\u001b[0;34m.\u001b[0m\u001b[0mwrite\u001b[0m\u001b[0;34m(\u001b[0m\u001b[0mim\u001b[0m\u001b[0;34m.\u001b[0m\u001b[0mtobytes\u001b[0m\u001b[0;34m(\u001b[0m\u001b[0;34m)\u001b[0m\u001b[0;34m)\u001b[0m\u001b[0;34m\u001b[0m\u001b[0;34m\u001b[0m\u001b[0m\n\u001b[0m\u001b[1;32m     26\u001b[0m             \u001b[0;32mexcept\u001b[0m\u001b[0;34m:\u001b[0m\u001b[0;34m\u001b[0m\u001b[0;34m\u001b[0m\u001b[0m\n",
      "\u001b[0;31mValueError\u001b[0m: write to closed file",
      "\nDuring handling of the above exception, another exception occurred:\n",
      "\u001b[0;31mValueError\u001b[0m                                Traceback (most recent call last)",
      "\u001b[0;32m/var/folders/lj/mxl49npx0nb12_m94w_2xrjh0000gn/T/ipykernel_54221/15419208.py\u001b[0m in \u001b[0;36m<module>\u001b[0;34m\u001b[0m\n\u001b[1;32m     27\u001b[0m                 \u001b[0mtime\u001b[0m\u001b[0;34m.\u001b[0m\u001b[0msleep\u001b[0m\u001b[0;34m(\u001b[0m\u001b[0;36m0.3\u001b[0m\u001b[0;34m)\u001b[0m\u001b[0;34m\u001b[0m\u001b[0;34m\u001b[0m\u001b[0m\n\u001b[1;32m     28\u001b[0m                 \u001b[0mim\u001b[0m \u001b[0;34m=\u001b[0m \u001b[0mcv2\u001b[0m\u001b[0;34m.\u001b[0m\u001b[0mimread\u001b[0m\u001b[0;34m(\u001b[0m\u001b[0mimpath\u001b[0m\u001b[0;34m)\u001b[0m\u001b[0;34m\u001b[0m\u001b[0;34m\u001b[0m\u001b[0m\n\u001b[0;32m---> 29\u001b[0;31m                 \u001b[0mp\u001b[0m\u001b[0;34m.\u001b[0m\u001b[0mstdin\u001b[0m\u001b[0;34m.\u001b[0m\u001b[0mwrite\u001b[0m\u001b[0;34m(\u001b[0m\u001b[0mim\u001b[0m\u001b[0;34m.\u001b[0m\u001b[0mtobytes\u001b[0m\u001b[0;34m(\u001b[0m\u001b[0;34m)\u001b[0m\u001b[0;34m)\u001b[0m\u001b[0;34m\u001b[0m\u001b[0;34m\u001b[0m\u001b[0m\n\u001b[0m\u001b[1;32m     30\u001b[0m             \u001b[0;32mif\u001b[0m \u001b[0mix\u001b[0m \u001b[0;34m==\u001b[0m \u001b[0;34m(\u001b[0m\u001b[0mlen\u001b[0m\u001b[0;34m(\u001b[0m\u001b[0mcommon_image_paths\u001b[0m\u001b[0;34m)\u001b[0m \u001b[0;34m-\u001b[0m \u001b[0;36m100\u001b[0m\u001b[0;34m)\u001b[0m\u001b[0;34m:\u001b[0m\u001b[0;34m\u001b[0m\u001b[0;34m\u001b[0m\u001b[0m\n\u001b[1;32m     31\u001b[0m                 \u001b[0mbet_stop_script\u001b[0m \u001b[0;34m=\u001b[0m \u001b[0;34mf\"python3 nomorebets.py --ts {str(ts)}\"\u001b[0m\u001b[0;34m\u001b[0m\u001b[0;34m\u001b[0m\u001b[0m\n",
      "\u001b[0;31mValueError\u001b[0m: write to closed file"
     ]
    }
   ],
   "source": [
    "p = subprocess.Popen(command, stdin=subprocess.PIPE)\n",
    "font = cv2.FONT_HERSHEY_SIMPLEX\n",
    "k = 0\n",
    "m = 0\n",
    "print(len(common_image_paths))\n",
    "while True:\n",
    "    m += 1\n",
    "    try:\n",
    "        ts = time.time()\n",
    "        print(\"ts:\", ts)\n",
    "        for ix, impath in enumerate(common_image_paths):\n",
    "            im = cv2.imread(impath)\n",
    "            k += 1\n",
    "\n",
    "            # Call start bets event here and stop bets after X secs\n",
    "            if ix == 0:\n",
    "                round_start_script = f\"python3 start_event.py --ts {str(ts)}\"\n",
    "                shlex_bet = shlex.split(round_start_script)\n",
    "                subprocess.Popen(shlex_bet, start_new_session=True)\n",
    "            time.sleep(1 / 41)\n",
    "            cv2.putText(\n",
    "                im, f\"Common: {k}\", (10, 100), font, 3, (0, 255, 0), 2, cv2.LINE_AA\n",
    "            )\n",
    "            try:\n",
    "                p.stdin.write(im.tobytes())\n",
    "            except:\n",
    "                time.sleep(0.3)\n",
    "                im = cv2.imread(impath)\n",
    "                p.stdin.write(im.tobytes())\n",
    "            if ix == (len(common_image_paths) - 100):\n",
    "                bet_stop_script = f\"python3 nomorebets.py --ts {str(ts)}\"\n",
    "                shlex_bet = shlex.split(bet_stop_script)\n",
    "                subprocess.Popen(shlex_bet, start_new_session=True)\n",
    "                generate_numbers_script = f\"python3 gen_frames.py --ts {str(ts)}\"\n",
    "                shlex_bet = shlex.split(generate_numbers_script)\n",
    "                subprocess.Popen(shlex_bet, start_new_session=True)\n",
    "\n",
    "        dice_numbers = open(\"sicbo_dice_numbers.txt\", \"r\").read()\n",
    "        dice1 = dice_numbers.split(\",\")[0].strip()\n",
    "        dice2 = dice_numbers.split(\",\")[1].strip()\n",
    "        dice3 = dice_numbers.split(\",\")[2].strip()\n",
    "        n_paths = combo_paths[dice1 + dice2 + dice3]\n",
    "        for ix, impath in enumerate(n_paths):\n",
    "            k += 1\n",
    "            # Call start bets event here and stop bets after X secs\n",
    "            im = cv2.imread(impath)\n",
    "            time.sleep(1 / 41)\n",
    "            cv2.putText(im, str(k), (10, 100), font, 3, (0, 255, 0), 2, cv2.LINE_AA)\n",
    "            cv2.putText(im, str(m), (10, 450), font, 3, (0, 255, 0), 2, cv2.LINE_AA)\n",
    "            try:\n",
    "                p.stdin.write(im.tobytes())\n",
    "            except:\n",
    "                time.sleep(0.3)\n",
    "                im = cv2.imread(impath)\n",
    "                p.stdin.write(im.tobytes())\n",
    "            if ix == len(n_paths) - 100:\n",
    "                cmd3 = f\"python3 roundend.py --ts {str(ts)}\"\n",
    "                cmds3 = shlex.split(cmd3)\n",
    "                p5 = subprocess.Popen(cmds3, start_new_session=True)\n",
    "    except KeyboardInterrupt:\n",
    "        p.stdin.close()\n"
   ]
  },
  {
   "cell_type": "code",
   "execution_count": null,
   "id": "010d2cfd",
   "metadata": {},
   "outputs": [],
   "source": []
  }
 ],
 "metadata": {
  "kernelspec": {
   "display_name": "Python 3 (ipykernel)",
   "language": "python",
   "name": "python3"
  },
  "language_info": {
   "codemirror_mode": {
    "name": "ipython",
    "version": 3
   },
   "file_extension": ".py",
   "mimetype": "text/x-python",
   "name": "python",
   "nbconvert_exporter": "python",
   "pygments_lexer": "ipython3",
   "version": "3.9.7"
  }
 },
 "nbformat": 4,
 "nbformat_minor": 5
}
